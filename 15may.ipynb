{
 "cells": [
  {
   "cell_type": "code",
   "execution_count": 1,
   "id": "80a84f5d",
   "metadata": {},
   "outputs": [],
   "source": [
    "s= \"ineuron\""
   ]
  },
  {
   "cell_type": "code",
   "execution_count": 2,
   "id": "87d5f8db",
   "metadata": {},
   "outputs": [
    {
     "data": {
      "text/plain": [
       "str"
      ]
     },
     "execution_count": 2,
     "metadata": {},
     "output_type": "execute_result"
    }
   ],
   "source": [
    "type(s)"
   ]
  },
  {
   "cell_type": "code",
   "execution_count": 8,
   "id": "170a4f63",
   "metadata": {},
   "outputs": [],
   "source": [
    "a= \"rutuja \"\n"
   ]
  },
  {
   "cell_type": "code",
   "execution_count": 9,
   "id": "578c43e8",
   "metadata": {},
   "outputs": [],
   "source": [
    "\n",
    "b=\"& atharva\""
   ]
  },
  {
   "cell_type": "code",
   "execution_count": 10,
   "id": "4801a97a",
   "metadata": {},
   "outputs": [],
   "source": [
    "c= \" are lovers\"\n"
   ]
  },
  {
   "cell_type": "code",
   "execution_count": 11,
   "id": "711824ef",
   "metadata": {},
   "outputs": [
    {
     "data": {
      "text/plain": [
       "'rutuja & atharva are lovers'"
      ]
     },
     "execution_count": 11,
     "metadata": {},
     "output_type": "execute_result"
    }
   ],
   "source": [
    "a+b+c\n"
   ]
  },
  {
   "cell_type": "code",
   "execution_count": 7,
   "id": "c2385356",
   "metadata": {
    "scrolled": false
   },
   "outputs": [
    {
     "data": {
      "text/plain": [
       "'rutujaatharvalovers'"
      ]
     },
     "execution_count": 7,
     "metadata": {},
     "output_type": "execute_result"
    }
   ],
   "source": []
  },
  {
   "cell_type": "code",
   "execution_count": 12,
   "id": "d73d276c",
   "metadata": {},
   "outputs": [
    {
     "name": "stdout",
     "output_type": "stream",
     "text": [
      "a+b+c\n"
     ]
    }
   ],
   "source": [
    "print(\"a+b+c\")"
   ]
  },
  {
   "cell_type": "code",
   "execution_count": 16,
   "id": "2d6dccc5",
   "metadata": {},
   "outputs": [],
   "source": [
    "\n",
    "k=\"atharva\"\n"
   ]
  },
  {
   "cell_type": "code",
   "execution_count": 18,
   "id": "489d3836",
   "metadata": {},
   "outputs": [
    {
     "data": {
      "text/plain": [
       "'vra'"
      ]
     },
     "execution_count": 18,
     "metadata": {},
     "output_type": "execute_result"
    }
   ],
   "source": [
    "k[5:2\n",
    "  \n",
    "  :-1]\n",
    "\n"
   ]
  },
  {
   "cell_type": "code",
   "execution_count": 19,
   "id": "3b1c078b",
   "metadata": {},
   "outputs": [
    {
     "data": {
      "text/plain": [
       "'va'"
      ]
     },
     "execution_count": 19,
     "metadata": {},
     "output_type": "execute_result"
    }
   ],
   "source": [
    "k[-2:]\n",
    "\n"
   ]
  },
  {
   "cell_type": "code",
   "execution_count": 20,
   "id": "eb57d29d",
   "metadata": {},
   "outputs": [
    {
     "data": {
      "text/plain": [
       "'atharva'"
      ]
     },
     "execution_count": 20,
     "metadata": {},
     "output_type": "execute_result"
    }
   ],
   "source": [
    "k[::1]\n",
    "\n",
    "\n",
    "\n",
    "\n",
    "\n",
    "\n",
    "\n"
   ]
  },
  {
   "cell_type": "code",
   "execution_count": 1,
   "id": "f2eb7a9d",
   "metadata": {},
   "outputs": [],
   "source": [
    "k='atharva polkam'\n"
   ]
  },
  {
   "cell_type": "code",
   "execution_count": 2,
   "id": "bca0f87b",
   "metadata": {},
   "outputs": [
    {
     "data": {
      "text/plain": [
       "14"
      ]
     },
     "execution_count": 2,
     "metadata": {},
     "output_type": "execute_result"
    }
   ],
   "source": [
    "len(k)"
   ]
  },
  {
   "cell_type": "code",
   "execution_count": 4,
   "id": "dc6615c9",
   "metadata": {},
   "outputs": [
    {
     "data": {
      "text/plain": [
       "'atharva polkamatharva polkam'"
      ]
     },
     "execution_count": 4,
     "metadata": {},
     "output_type": "execute_result"
    }
   ],
   "source": [
    "k*2"
   ]
  },
  {
   "cell_type": "code",
   "execution_count": 6,
   "id": "35d230f2",
   "metadata": {},
   "outputs": [
    {
     "data": {
      "text/plain": [
       "4"
      ]
     },
     "execution_count": 6,
     "metadata": {},
     "output_type": "execute_result"
    }
   ],
   "source": [
    "k.count(\"a\")"
   ]
  },
  {
   "cell_type": "code",
   "execution_count": 8,
   "id": "319abcc1",
   "metadata": {},
   "outputs": [],
   "source": [
    "\n",
    "r=\"flkjh. hhfddg high vyytper piece. ₹650₹682. Add to bag. Buy now. Free DeliveryDelivery happens within 12-24 hours. Payment OptionsCash on Delive\"\n",
    "\n"
   ]
  },
  {
   "cell_type": "raw",
   "id": "81667cd8",
   "metadata": {},
   "source": [
    "split(r)"
   ]
  },
  {
   "cell_type": "code",
   "execution_count": 9,
   "id": "a4dc2fdc",
   "metadata": {},
   "outputs": [],
   "source": [
    "a= 'i can do whatever i want'"
   ]
  },
  {
   "cell_type": "code",
   "execution_count": 10,
   "id": "9785886a",
   "metadata": {},
   "outputs": [
    {
     "data": {
      "text/plain": [
       "24"
      ]
     },
     "execution_count": 10,
     "metadata": {},
     "output_type": "execute_result"
    }
   ],
   "source": [
    "len(a)"
   ]
  },
  {
   "cell_type": "code",
   "execution_count": 11,
   "id": "116fc630",
   "metadata": {},
   "outputs": [
    {
     "data": {
      "text/plain": [
       "['i', 'can', 'do', 'whatever', 'i', 'want']"
      ]
     },
     "execution_count": 11,
     "metadata": {},
     "output_type": "execute_result"
    }
   ],
   "source": [
    "a.split(' ')"
   ]
  },
  {
   "cell_type": "code",
   "execution_count": 12,
   "id": "59828255",
   "metadata": {},
   "outputs": [
    {
     "data": {
      "text/plain": [
       "'I CAN DO WHATEVER I WANT'"
      ]
     },
     "execution_count": 12,
     "metadata": {},
     "output_type": "execute_result"
    }
   ],
   "source": [
    "a.upper()"
   ]
  },
  {
   "cell_type": "code",
   "execution_count": 13,
   "id": "0095832a",
   "metadata": {},
   "outputs": [
    {
     "data": {
      "text/plain": [
       "'i can do whatever i want'"
      ]
     },
     "execution_count": 13,
     "metadata": {},
     "output_type": "execute_result"
    }
   ],
   "source": [
    "a"
   ]
  },
  {
   "cell_type": "code",
   "execution_count": 14,
   "id": "95257150",
   "metadata": {},
   "outputs": [
    {
     "data": {
      "text/plain": [
       "False"
      ]
     },
     "execution_count": 14,
     "metadata": {},
     "output_type": "execute_result"
    }
   ],
   "source": [
    "a.isspace()"
   ]
  },
  {
   "cell_type": "code",
   "execution_count": 15,
   "id": "075e70bf",
   "metadata": {},
   "outputs": [
    {
     "data": {
      "text/plain": [
       "'i can do whatever i want'"
      ]
     },
     "execution_count": 15,
     "metadata": {},
     "output_type": "execute_result"
    }
   ],
   "source": [
    "a"
   ]
  },
  {
   "cell_type": "code",
   "execution_count": 16,
   "id": "e03e94a4",
   "metadata": {},
   "outputs": [
    {
     "data": {
      "text/plain": [
       "False"
      ]
     },
     "execution_count": 16,
     "metadata": {},
     "output_type": "execute_result"
    }
   ],
   "source": [
    "a.isdigit()"
   ]
  },
  {
   "cell_type": "code",
   "execution_count": 17,
   "id": "3a956f8f",
   "metadata": {},
   "outputs": [
    {
     "ename": "AttributeError",
     "evalue": "'str' object has no attribute 'isstring'",
     "output_type": "error",
     "traceback": [
      "\u001b[1;31m---------------------------------------------------------------------------\u001b[0m",
      "\u001b[1;31mAttributeError\u001b[0m                            Traceback (most recent call last)",
      "Input \u001b[1;32mIn [17]\u001b[0m, in \u001b[0;36m<cell line: 1>\u001b[1;34m()\u001b[0m\n\u001b[1;32m----> 1\u001b[0m \u001b[43ma\u001b[49m\u001b[38;5;241;43m.\u001b[39;49m\u001b[43misstring\u001b[49m()\n",
      "\u001b[1;31mAttributeError\u001b[0m: 'str' object has no attribute 'isstring'"
     ]
    }
   ],
   "source": [
    "a.isstring()"
   ]
  },
  {
   "cell_type": "code",
   "execution_count": 18,
   "id": "227b002e",
   "metadata": {},
   "outputs": [
    {
     "data": {
      "text/plain": [
       "False"
      ]
     },
     "execution_count": 18,
     "metadata": {},
     "output_type": "execute_result"
    }
   ],
   "source": [
    "a.isalnum()"
   ]
  },
  {
   "cell_type": "code",
   "execution_count": 20,
   "id": "fd981bef",
   "metadata": {},
   "outputs": [
    {
     "data": {
      "text/plain": [
       "False"
      ]
     },
     "execution_count": 20,
     "metadata": {},
     "output_type": "execute_result"
    }
   ],
   "source": [
    "a.isalpha()"
   ]
  },
  {
   "cell_type": "code",
   "execution_count": null,
   "id": "812b3878",
   "metadata": {},
   "outputs": [],
   "source": []
  },
  {
   "cell_type": "code",
   "execution_count": 22,
   "id": "b0bacdb0",
   "metadata": {},
   "outputs": [],
   "source": [
    "a= 'buddy'"
   ]
  },
  {
   "cell_type": "code",
   "execution_count": 23,
   "id": "922bc9bb",
   "metadata": {},
   "outputs": [
    {
     "data": {
      "text/plain": [
       "True"
      ]
     },
     "execution_count": 23,
     "metadata": {},
     "output_type": "execute_result"
    }
   ],
   "source": [
    "a.isalpha()"
   ]
  },
  {
   "cell_type": "code",
   "execution_count": 24,
   "id": "800f6e79",
   "metadata": {},
   "outputs": [
    {
     "ename": "AttributeError",
     "evalue": "'str' object attribute 'isalnum' is read-only",
     "output_type": "error",
     "traceback": [
      "\u001b[1;31m---------------------------------------------------------------------------\u001b[0m",
      "\u001b[1;31mAttributeError\u001b[0m                            Traceback (most recent call last)",
      "Input \u001b[1;32mIn [24]\u001b[0m, in \u001b[0;36m<cell line: 1>\u001b[1;34m()\u001b[0m\n\u001b[1;32m----> 1\u001b[0m a\u001b[38;5;241m.\u001b[39misalnum\u001b[38;5;241m=\u001b[39m()\n",
      "\u001b[1;31mAttributeError\u001b[0m: 'str' object attribute 'isalnum' is read-only"
     ]
    }
   ],
   "source": [
    "a.isalnum=()"
   ]
  },
  {
   "cell_type": "code",
   "execution_count": 25,
   "id": "09baa724",
   "metadata": {},
   "outputs": [
    {
     "ename": "AttributeError",
     "evalue": "'str' object has no attribute 'isstartwith'",
     "output_type": "error",
     "traceback": [
      "\u001b[1;31m---------------------------------------------------------------------------\u001b[0m",
      "\u001b[1;31mAttributeError\u001b[0m                            Traceback (most recent call last)",
      "Input \u001b[1;32mIn [25]\u001b[0m, in \u001b[0;36m<cell line: 1>\u001b[1;34m()\u001b[0m\n\u001b[1;32m----> 1\u001b[0m \u001b[43ma\u001b[49m\u001b[38;5;241;43m.\u001b[39;49m\u001b[43misstartwith\u001b[49m(\u001b[38;5;124m'\u001b[39m\u001b[38;5;124mf\u001b[39m\u001b[38;5;124m'\u001b[39m)\n",
      "\u001b[1;31mAttributeError\u001b[0m: 'str' object has no attribute 'isstartwith'"
     ]
    }
   ],
   "source": [
    "a.isstartwith('f')"
   ]
  },
  {
   "cell_type": "code",
   "execution_count": 27,
   "id": "f6c6dbde",
   "metadata": {},
   "outputs": [
    {
     "data": {
      "text/plain": [
       "False"
      ]
     },
     "execution_count": 27,
     "metadata": {},
     "output_type": "execute_result"
    }
   ],
   "source": [
    "a.startswith('l')"
   ]
  },
  {
   "cell_type": "code",
   "execution_count": null,
   "id": "43e0caec",
   "metadata": {},
   "outputs": [],
   "source": []
  }
 ],
 "metadata": {
  "kernelspec": {
   "display_name": "Python 3 (ipykernel)",
   "language": "python",
   "name": "python3"
  },
  "language_info": {
   "codemirror_mode": {
    "name": "ipython",
    "version": 3
   },
   "file_extension": ".py",
   "mimetype": "text/x-python",
   "name": "python",
   "nbconvert_exporter": "python",
   "pygments_lexer": "ipython3",
   "version": "3.9.12"
  }
 },
 "nbformat": 4,
 "nbformat_minor": 5
}
